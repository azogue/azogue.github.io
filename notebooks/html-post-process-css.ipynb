{
 "cells": [
  {
   "cell_type": "markdown",
   "metadata": {},
   "source": [
    "## HTML post-process\n",
    "\n",
    "`Typora` generates an HTML file with inline CSS styling, with the selected theme at the moment of the export.\n",
    "The cascade is as follows:\n",
    "\n",
    "1. Base CSS from Typora, extracted to its own CSS file: `typora.base.css`\n",
    "1. Selected base theme, in our case the files `monospace-dark.css` or `monospace.css`\n",
    "1. Custom common CSS for Typora, called `base.user.css` in the Typora themes folder.\n",
    "1. Custom CSS for each theme, using files with \".user\" postfix: `monospace-dark.user.css` or `monospace.user.css`\n",
    "\n",
    "By using media queries we can implement both themes to be in sync with the viewer local config,\n",
    "and force any of the 2 themes for `@media print`.\n",
    "\n",
    "The expected html in `<head>` should contain these CSS:\n",
    "\n",
    "```html\n",
    "<link href='typora.base.css' rel='stylesheet' type='text/css' />\n",
    "<link href='monospace-dark.css' rel='stylesheet' type='text/css' media=\"screen and (prefers-color-scheme: dark), screen and (prefers-color-scheme: no-preference), print\"/>\n",
    "<link href='monospace.css' rel='stylesheet' type='text/css' media=\"screen and (prefers-color-scheme: light)\"/>\n",
    "<link href='base.user.css' rel='stylesheet' type='text/css' />\n",
    "<link href='monospace-dark.user.css' rel='stylesheet' type='text/css' media=\"screen and (prefers-color-scheme: dark), screen and (prefers-color-scheme: no-preference), print\"/>\n",
    "<link href='monospace.user.css' rel='stylesheet' type='text/css' media=\"screen and (prefers-color-scheme: light)\" />\n",
    "```\n",
    "\n",
    "A manual switch (hidden for print) is also added to toggle between themes, by just inserting 2 lines:\n",
    "\n",
    "```html\n",
    "<!-- on head -->\n",
    "<script type=\"module\" src=\"https://googlechromelabs.github.io/dark-mode-toggle/src/dark-mode-toggle.mjs\"></script>\n",
    "```\n",
    "\n",
    "```html\n",
    "<!-- at the end of body -->\n",
    "<aside>\n",
    "    <dark-mode-toggle id=\"dark-mode-toggle-1\" appearance=\"toggle\" legend=\"dark mode\" dark=\"on\" light=\"off\" remember=\"remember\"></dark-mode-toggle>\n",
    "</aside>\n",
    "```\n",
    "\n",
    "### Jinja2 template render\n",
    "\n",
    "As the `head` gets more complex (favicons, open graph meta tags, etc), **it is easier to maintain** it with a jinja2 template, where we fill some basic data for the static site, and insert the content from the extracted `body` in the Typora-generated html."
   ]
  },
  {
   "cell_type": "code",
   "execution_count": 1,
   "metadata": {},
   "outputs": [
    {
     "data": {
      "text/plain": [
       "19180"
      ]
     },
     "execution_count": 1,
     "metadata": {},
     "output_type": "execute_result"
    }
   ],
   "source": [
    "\"\"\"\n",
    "Script to post-process the Typora-generated web page.\n",
    "\n",
    "* Replace head with:\n",
    " - referenced local CSS files,\n",
    " - referenced local badges,\n",
    " - Open Graph meta tags,\n",
    " - favicon meta tags,\n",
    "* Add dark/light theme switcher\n",
    "\n",
    "\"\"\"\n",
    "import re\n",
    "from pathlib import Path\n",
    "\n",
    "from jinja2 import Template\n",
    "\n",
    "# paths\n",
    "#p_base = Path(__file__).parents[1]\n",
    "p_base = Path(\"../\")\n",
    "p_index = p_base / \"index.html\"\n",
    "p_typora = p_base / \"resumes\" / \"resume-eugenio-panadero.html\"\n",
    "p_templ = p_base / \"notebooks\" / \"layout.html\"\n",
    "rel_path_rsc = \"resources/\"\n",
    "\n",
    "# title and short description\n",
    "title = \"Eugenio Panadero's resume\"\n",
    "description = (\n",
    "    \"Python Senior Developer (12+ years of experience) interested in web apps, \"\n",
    "    \"data analysis & ML, IoT, home automation, energy and electrical industries\"\n",
    ")\n",
    "\n",
    "# Load original html\n",
    "html_orig = p_typora.read_text()\n",
    "p_typora.write_text(html_orig.replace(\"README\", title))\n",
    "\n",
    "body = re.findall(\n",
    "    r\"<body class='typora-export' >(.*)</body>\", html_orig, flags=re.DOTALL\n",
    ")[0]\n",
    "\n",
    "rg_ref_badge = re.compile(r\" src='(https://img.shields.io/badge/(\\w+)-.+?)' \")\n",
    "body_local_badges = rg_ref_badge.sub(r\" src='resources/badge_\\2.svg' \", body)\n",
    "\n",
    "# Collect data for template\n",
    "data = {\n",
    "    \"title\": title,\n",
    "    \"short_desc\": description,\n",
    "    \"rel_path_rsc\": rel_path_rsc,\n",
    "    \"base_url\": \"https://azogue.github.io\",\n",
    "    \"site_name\": \"profile: Eugenio Panadero\",\n",
    "    \"image_width\": 868,\n",
    "    \"image_height\": 1380,\n",
    "    \"typora_body\": body_local_badges,\n",
    "}\n",
    "\n",
    "# Render jinja2 template into index.html\n",
    "p_index.write_text(\n",
    "    Template(p_templ.read_text()).render(**data)\n",
    ")"
   ]
  }
 ],
 "metadata": {
  "kernelspec": {
   "display_name": "Python 3",
   "language": "python",
   "name": "python3"
  },
  "language_info": {
   "codemirror_mode": {
    "name": "ipython",
    "version": 3
   },
   "file_extension": ".py",
   "mimetype": "text/x-python",
   "name": "python",
   "nbconvert_exporter": "python",
   "pygments_lexer": "ipython3",
   "version": "3.7.4"
  }
 },
 "nbformat": 4,
 "nbformat_minor": 4
}
